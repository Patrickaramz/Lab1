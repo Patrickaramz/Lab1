{
 "cells": [
  {
   "cell_type": "code",
   "execution_count": null,
   "id": "00d68c94-000a-4884-9b82-a3e23e175ded",
   "metadata": {},
   "outputs": [],
   "source": [
    "with open('dna_raw.txt', 'r') as file:\n",
    "    lines = file.readlines()\n"
   ]
  },
  {
   "cell_type": "code",
   "execution_count": null,
   "id": "54e5f025-f350-4714-98bb-d2a3e4eddcc6",
   "metadata": {},
   "outputs": [],
   "source": [
    "import matplotlib.pyplot as plt\n",
    "\n",
    "#öppnar filen och läser in alla rader\n",
    "with open(\"dna_raw.txt\", \"r\") as file:\n",
    "    lines = file.readlines()\n",
    "\n",
    "# skapar en tom dictionary för att spara sekvenserna\n",
    "sequences = {}\n",
    "current_id = \"\" \n",
    "\n",
    "\n",
    "# Går igenom varje rad i filen\n",
    "for line in lines:\n",
    "    line = line.strip()  #Tar bort extra mellanrum\n",
    "\n",
    "    # OM raden är ett ID (alltså har >)\n",
    "    if line.startswith(\">\"):\n",
    "        current_id = line[1:]  # tar bort > symbol\n",
    "        sequences[current_id] = \"\"  \n",
    "    else:\n",
    "        # Lägger till själva sekvensen (gör den till små bokstäver för att inte blanda A och a)\n",
    "        sequences[current_id] += line.lower()\n",
    "\n",
    "# Går igenom varje sekvens och räknar hur många av varje bokstav som finns\n",
    "for id, sequence in sequences.items():\n",
    "    letter_count = {}\n",
    "\n",
    "    # Röknar varje bokstav i sekvensen\n",
    "    for letter in sequence:\n",
    "        if letter in letter_count:\n",
    "            letter_count[letter] += 1\n",
    "        else:\n",
    "            letter_count[letter] = 1\n",
    "\n",
    "    # Skriver ut ID, sekvensen och hur många av varje bokstav som finns\n",
    "    print(f\"\\n{id}\")\n",
    "    print(sequence)\n",
    "    print(letter_count)\n",
    "\n",
    "    sequence_number = id.replace(\"seq\", \"\")\n",
    "    display_name = f\"DNA sequence {sequence_number}\"\n",
    "\n",
    "    # Här ritar jag ett stapeldiagram med resultatet\n",
    "    plt.bar(letter_count.keys(), letter_count.values(), color=\"blue\")\n",
    "    plt.title(display_name) # Titeln för varje sekvens\n",
    "    plt.xlabel(\"DNA-Letters\") # x-axeln visar bokstäverna (a, g, t, osv)\n",
    "    plt.ylabel(\"Amount\") # y-axeln visar antalet\n",
    "    plt.tight_layout() # Ser till att allt får plats och att inget krockar i grafen\n",
    "    plt.show()\n"
   ]
  }
 ],
 "metadata": {
  "kernelspec": {
   "display_name": "Python 3 (ipykernel)",
   "language": "python",
   "name": "python3"
  },
  "language_info": {
   "codemirror_mode": {
    "name": "ipython",
    "version": 3
   },
   "file_extension": ".py",
   "mimetype": "text/x-python",
   "name": "python",
   "nbconvert_exporter": "python",
   "pygments_lexer": "ipython3",
   "version": "3.12.6"
  }
 },
 "nbformat": 4,
 "nbformat_minor": 5
}
